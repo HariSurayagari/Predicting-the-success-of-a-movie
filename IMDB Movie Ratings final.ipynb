{
 "cells": [
  {
   "cell_type": "markdown",
   "metadata": {
    "cell_style": "center",
    "collapsed": true
   },
   "source": [
    "# Table of contents\n",
    " 1. [Introduction](#section1)\n",
    "    - 1.1 [Data Description](#section2)\n",
    "    - 1.2 [Objectives](#section3)\n",
    " 2. [Data Exploration and Cleaning](#section4)\n",
    " 3. [Data Visualization](#section5)\n",
    "    - 3.1 [Movies Released per Year](#section6)\n",
    "    - 3.2 [Top 20 Movies based on IMDB Rating](#section7)\n",
    "    - 3.3 [Top 20 Directors with highest average IMDB Rating](#section8)\n",
    "    - 3.4 [Movie ratings per genre](#section9)\n",
    " 4. [Data Pre-Processing](#section10)\n",
    "    - 4.1 [Drop Columns](#section11)\n",
    "    - 4.2 [Bin IMDB Ratings](#section12)\n",
    "    - 4.3 [Convert Object data to Numberical](#section13)\n",
    "    - 4.4 [Training and Testing Data Split](#section14)\n",
    " 5. [Implementing Machine Learning Algorithms](#section15)\n",
    "    - 5.1 [XGBoost](#section16)\n",
    "    - 5.2 [Random Forest](#section17)\n",
    "    - 5.3 [Neural Networks](#section18)\n",
    " 6. [Conclusion](#section19)"
   ]
  },
  {
   "cell_type": "markdown",
   "metadata": {
    "collapsed": true
   },
   "source": [
    "<a id='section1'></a>                                                                                                          <font size=\"4\">**1. Introduction**</font>\n",
    "\n",
    "IMDB is a database consisting of all most all movies ever released. The movie industry is one with tremendous financial implications and a movie's commercial success in the market is vital for the survival of a production house especially if they invest a significant amount into producing it. How do we know if a movie is a financial success? What comprises of a substantial investment? Is it possible to predict a movie's rating? Below we will look at the data obtained from IMDB and make rating predictions of any film.\n",
    "\n",
    "<a id='section2'></a>\n",
    "<font size=\"3\">1.1 Data Description</font>\n",
    "\n",
    "The dataset consists of a wide range of features and a variety of movies. It has 28 variables for 5043 movies with thousands of unique actors and directors. This dataset consists of films from 66 countries. It also has the investment made in a movie and the gross income."
   ]
  },
  {
   "cell_type": "code",
   "execution_count": 107,
   "metadata": {
    "cell_style": "center",
    "collapsed": true
   },
   "outputs": [],
   "source": [
    "import numpy as np\n",
    "import pandas as pd\n",
    "import seaborn as sns\n",
    "import matplotlib.pyplot as plt\n",
    "%matplotlib inline\n",
    "\n",
    "from nltk.tokenize import TweetTokenizer\n",
    "from sklearn.model_selection import train_test_split\n",
    "from nltk.corpus import stopwords\n",
    "from nltk.util import ngrams\n",
    "from sklearn.feature_extraction.text import TfidfVectorizer"
   ]
  },
  {
   "cell_type": "code",
   "execution_count": 108,
   "metadata": {
    "collapsed": true
   },
   "outputs": [],
   "source": [
    "dataRaw =pd.read_csv(r\"C:\\Users\\hari0\\Dropbox\\Random Projects\\Movie Metadata\\movie_metadata.csv\",sep=',')"
   ]
  },
  {
   "cell_type": "code",
   "execution_count": 109,
   "metadata": {},
   "outputs": [
    {
     "name": "stdout",
     "output_type": "stream",
     "text": [
      "<class 'pandas.core.frame.DataFrame'>\n",
      "RangeIndex: 5043 entries, 0 to 5042\n",
      "Data columns (total 28 columns):\n",
      "color                        5024 non-null object\n",
      "director_name                4939 non-null object\n",
      "num_critic_for_reviews       4993 non-null float64\n",
      "duration                     5028 non-null float64\n",
      "director_facebook_likes      4939 non-null float64\n",
      "actor_3_facebook_likes       5020 non-null float64\n",
      "actor_2_name                 5030 non-null object\n",
      "actor_1_facebook_likes       5036 non-null float64\n",
      "gross                        4159 non-null float64\n",
      "genres                       5043 non-null object\n",
      "actor_1_name                 5036 non-null object\n",
      "movie_title                  5043 non-null object\n",
      "num_voted_users              5043 non-null int64\n",
      "cast_total_facebook_likes    5043 non-null int64\n",
      "actor_3_name                 5020 non-null object\n",
      "facenumber_in_poster         5030 non-null float64\n",
      "plot_keywords                4890 non-null object\n",
      "movie_imdb_link              5043 non-null object\n",
      "num_user_for_reviews         5022 non-null float64\n",
      "language                     5031 non-null object\n",
      "country                      5038 non-null object\n",
      "content_rating               4740 non-null object\n",
      "budget                       4551 non-null float64\n",
      "title_year                   4935 non-null float64\n",
      "actor_2_facebook_likes       5030 non-null float64\n",
      "imdb_score                   5043 non-null float64\n",
      "aspect_ratio                 4714 non-null float64\n",
      "movie_facebook_likes         5043 non-null int64\n",
      "dtypes: float64(13), int64(3), object(12)\n",
      "memory usage: 1.1+ MB\n"
     ]
    }
   ],
   "source": [
    "dataRaw.info()"
   ]
  },
  {
   "cell_type": "markdown",
   "metadata": {
    "collapsed": true
   },
   "source": [
    "<a id='section3'></a>\n",
    "<font size=\"3\">1.2 Objectives</font>\n",
    "\n",
    "The primary objective of this project is to predict the rating of a movie using the data provided. It is interesting to analyze which factors impact the score of a film. We will also show the results of the analysis graphically to make it easy to understand them. \n",
    "\n",
    "The results from this project can help movie production houses to understand the factors that can help boost the commercial progress of a movie. "
   ]
  },
  {
   "cell_type": "markdown",
   "metadata": {
    "collapsed": true
   },
   "source": [
    "<a id='section4'></a>\n",
    "<font size=\"4\">**2 Data Exploration and Cleaning**</font>\n",
    "\n",
    "We can see from the data above that the length of each column is different which indicates that there are some missing values. There is a possibility that some data could be duplicate values. These two situations are the most likely fundamental issues faced with any data. \n",
    "\n",
    "Let us start by looking at the number of duplicates and the missing values in the dataset. "
   ]
  },
  {
   "cell_type": "code",
   "execution_count": 110,
   "metadata": {},
   "outputs": [
    {
     "data": {
      "text/plain": [
       "color                         19\n",
       "director_name                104\n",
       "num_critic_for_reviews        50\n",
       "duration                      15\n",
       "director_facebook_likes      104\n",
       "actor_3_facebook_likes        23\n",
       "actor_2_name                  13\n",
       "actor_1_facebook_likes         7\n",
       "gross                        884\n",
       "genres                         0\n",
       "actor_1_name                   7\n",
       "movie_title                    0\n",
       "num_voted_users                0\n",
       "cast_total_facebook_likes      0\n",
       "actor_3_name                  23\n",
       "facenumber_in_poster          13\n",
       "plot_keywords                153\n",
       "movie_imdb_link                0\n",
       "num_user_for_reviews          21\n",
       "language                      12\n",
       "country                        5\n",
       "content_rating               303\n",
       "budget                       492\n",
       "title_year                   108\n",
       "actor_2_facebook_likes        13\n",
       "imdb_score                     0\n",
       "aspect_ratio                 329\n",
       "movie_facebook_likes           0\n",
       "dtype: int64"
      ]
     },
     "execution_count": 110,
     "metadata": {},
     "output_type": "execute_result"
    }
   ],
   "source": [
    "dataRaw.isnull().sum()"
   ]
  },
  {
   "cell_type": "code",
   "execution_count": 111,
   "metadata": {},
   "outputs": [
    {
     "data": {
      "text/plain": [
       "45"
      ]
     },
     "execution_count": 111,
     "metadata": {},
     "output_type": "execute_result"
    }
   ],
   "source": [
    "dataRaw.duplicated().sum()"
   ]
  },
  {
   "cell_type": "markdown",
   "metadata": {
    "collapsed": true
   },
   "source": [
    "So we have 45 duplicate rows and many missing values. We can remove the duplicate data but there are too many missing values to drop all of them, so we need a better alternative. Let us look at the number of missing values, 'gross'has the maximum missing data at 884 which is considerably higher than the second highest which is 'budget' at 492 but this is also a considerable amount. Since the missing data from 'gross' and 'budget' is enormous, we will have to drop those rows as any addition of data could lead to wrong inferences. "
   ]
  },
  {
   "cell_type": "code",
   "execution_count": 112,
   "metadata": {},
   "outputs": [
    {
     "data": {
      "text/plain": [
       "(3857, 28)"
      ]
     },
     "execution_count": 112,
     "metadata": {},
     "output_type": "execute_result"
    }
   ],
   "source": [
    "dataRaw = dataRaw.drop_duplicates()\n",
    "dataRaw = dataRaw.dropna(subset=['gross', 'budget'])\n",
    "dataRaw.shape"
   ]
  },
  {
   "cell_type": "markdown",
   "metadata": {
    "collapsed": true
   },
   "source": [
    "After removing the unwanted data, there are still 3857 rows of data available which is more than sufficient for our purpose. \n",
    "\n",
    "Now let us look at the facebook related data. We can see from above that there is not a lot of missing data from those variables. Any missing data correlated with its respective actual variable as in the 'director_name' has 104 missing values, and the 'director_facebook_likes' also has 104 missing values, and this is true with the actor data as well. The number of missing values are not high in comparison to the size of the data so we can take the mean of each of those columns to replace the NA values and it should not have a significant impact on the final predictions. \n",
    "\n",
    "We can do the same thing to some of the other variables as well such as 'facenumber_in_poster', 'num_user_for_reviews', 'num_critic_for_reviews'and 'duration'."
   ]
  },
  {
   "cell_type": "code",
   "execution_count": 113,
   "metadata": {
    "collapsed": true
   },
   "outputs": [],
   "source": [
    "dataRaw.director_facebook_likes = dataRaw['director_facebook_likes'].fillna(dataRaw.director_facebook_likes.mean())\n",
    "dataRaw.actor_3_facebook_likes = dataRaw['actor_3_facebook_likes'].fillna(dataRaw.actor_3_facebook_likes.mean())\n",
    "dataRaw.actor_1_facebook_likes = dataRaw['actor_1_facebook_likes'].fillna(dataRaw.actor_1_facebook_likes.mean())\n",
    "dataRaw.actor_2_facebook_likes = dataRaw['actor_2_facebook_likes'].fillna(dataRaw.actor_2_facebook_likes.mean())\n",
    "dataRaw.facenumber_in_poster = dataRaw['facenumber_in_poster'].fillna(dataRaw.facenumber_in_poster.mean())\n",
    "dataRaw.num_user_for_reviews = dataRaw['num_user_for_reviews'].fillna(dataRaw.num_user_for_reviews.mean())\n",
    "dataRaw.num_critic_for_reviews = dataRaw['num_critic_for_reviews'].fillna(dataRaw.num_critic_for_reviews.mean())\n",
    "dataRaw.duration = dataRaw['duration'].fillna(dataRaw.duration.mean())"
   ]
  },
  {
   "cell_type": "markdown",
   "metadata": {
    "collapsed": true
   },
   "source": [
    "Now that is done, lets look at 'aspect_ratio'. "
   ]
  },
  {
   "cell_type": "code",
   "execution_count": 114,
   "metadata": {},
   "outputs": [
    {
     "data": {
      "text/plain": [
       "2.35     1995\n",
       "1.85     1600\n",
       "1.37       50\n",
       "1.78       41\n",
       "1.66       40\n",
       "1.33       19\n",
       "2.39       11\n",
       "2.20       10\n",
       "2.40        3\n",
       "2.76        3\n",
       "2.00        3\n",
       "1.75        2\n",
       "2.24        1\n",
       "1.18        1\n",
       "2.55        1\n",
       "1.77        1\n",
       "16.00       1\n",
       "1.50        1\n",
       "Name: aspect_ratio, dtype: int64"
      ]
     },
     "execution_count": 114,
     "metadata": {},
     "output_type": "execute_result"
    }
   ],
   "source": [
    "dataRaw.aspect_ratio.value_counts()"
   ]
  },
  {
   "cell_type": "markdown",
   "metadata": {},
   "source": [
    "We can see from above that the number of movies with aspect ratios 2.35 and 1.85 is vastly more than the rest of the aspect ratios combined. Hence we can take the average of the rest of the aspect ratios and make it one value for within the aspect_ratio variable. This can reduce the complexity of the dataset, and this will also convert all NA values to mean of the variable. "
   ]
  },
  {
   "cell_type": "code",
   "execution_count": 115,
   "metadata": {},
   "outputs": [
    {
     "name": "stderr",
     "output_type": "stream",
     "text": [
      "D:\\Users\\hari0\\Anaconda3\\lib\\site-packages\\ipykernel_launcher.py:1: SettingWithCopyWarning: \n",
      "A value is trying to be set on a copy of a slice from a DataFrame\n",
      "\n",
      "See the caveats in the documentation: http://pandas.pydata.org/pandas-docs/stable/indexing.html#indexing-view-versus-copy\n",
      "  \"\"\"Entry point for launching an IPython kernel.\n"
     ]
    },
    {
     "data": {
      "text/plain": [
       "2.350000    1995\n",
       "1.850000    1600\n",
       "1.764149     262\n",
       "Name: aspect_ratio, dtype: int64"
      ]
     },
     "execution_count": 115,
     "metadata": {},
     "output_type": "execute_result"
    }
   ],
   "source": [
    "dataRaw.aspect_ratio[(dataRaw['aspect_ratio'] != 2.35) & (dataRaw['aspect_ratio'] != 1.85)] = dataRaw.aspect_ratio[(dataRaw['aspect_ratio'] != 2.35) & (dataRaw['aspect_ratio'] != 1.85)].mean()\n",
    "dataRaw.aspect_ratio.value_counts()"
   ]
  },
  {
   "cell_type": "markdown",
   "metadata": {},
   "source": [
    "At this stage let us take a look at the total missing values in the data."
   ]
  },
  {
   "cell_type": "code",
   "execution_count": 116,
   "metadata": {},
   "outputs": [
    {
     "data": {
      "text/plain": [
       "color                         2\n",
       "director_name                 0\n",
       "num_critic_for_reviews        0\n",
       "duration                      0\n",
       "director_facebook_likes       0\n",
       "actor_3_facebook_likes        0\n",
       "actor_2_name                  5\n",
       "actor_1_facebook_likes        0\n",
       "gross                         0\n",
       "genres                        0\n",
       "actor_1_name                  3\n",
       "movie_title                   0\n",
       "num_voted_users               0\n",
       "cast_total_facebook_likes     0\n",
       "actor_3_name                 10\n",
       "facenumber_in_poster          0\n",
       "plot_keywords                31\n",
       "movie_imdb_link               0\n",
       "num_user_for_reviews          0\n",
       "language                      3\n",
       "country                       0\n",
       "content_rating               51\n",
       "budget                        0\n",
       "title_year                    0\n",
       "actor_2_facebook_likes        0\n",
       "imdb_score                    0\n",
       "aspect_ratio                  0\n",
       "movie_facebook_likes          0\n",
       "dtype: int64"
      ]
     },
     "execution_count": 116,
     "metadata": {},
     "output_type": "execute_result"
    }
   ],
   "source": [
    "dataRaw.isnull().sum()"
   ]
  },
  {
   "cell_type": "markdown",
   "metadata": {},
   "source": [
    "As we can see, most of the missing data has been dealt with. So how much of an impact does color and content rating have on movie rating? Let us look at the color below:"
   ]
  },
  {
   "cell_type": "code",
   "execution_count": 117,
   "metadata": {},
   "outputs": [
    {
     "data": {
      "text/plain": [
       "Color               3725\n",
       " Black and White     130\n",
       "Name: color, dtype: int64"
      ]
     },
     "execution_count": 117,
     "metadata": {},
     "output_type": "execute_result"
    }
   ],
   "source": [
    "dataRaw.color.value_counts()"
   ]
  },
  {
   "cell_type": "markdown",
   "metadata": {},
   "source": [
    "As we can see most of the films are color which indicates that this variable is likely to have minimal impact on the results and so can be removed. "
   ]
  },
  {
   "cell_type": "code",
   "execution_count": 118,
   "metadata": {
    "collapsed": true
   },
   "outputs": [],
   "source": [
    "dataRaw = dataRaw.drop(['color'], axis=1)"
   ]
  },
  {
   "cell_type": "markdown",
   "metadata": {},
   "source": [
    "Content_rating has quite a few different rating. This is probably because the rating standards used to be different previously and can be modified in different countries even though they indicate the same thing. Let us look at this below:"
   ]
  },
  {
   "cell_type": "code",
   "execution_count": 119,
   "metadata": {},
   "outputs": [
    {
     "data": {
      "text/plain": [
       "R            1723\n",
       "PG-13        1314\n",
       "PG            573\n",
       "G              91\n",
       "Not Rated      42\n",
       "Unrated        24\n",
       "Approved       17\n",
       "X              10\n",
       "NC-17           6\n",
       "Passed          3\n",
       "M               2\n",
       "GP              1\n",
       "Name: content_rating, dtype: int64"
      ]
     },
     "execution_count": 119,
     "metadata": {},
     "output_type": "execute_result"
    }
   ],
   "source": [
    "dataRaw.content_rating.value_counts()"
   ]
  },
  {
   "cell_type": "markdown",
   "metadata": {
    "collapsed": true
   },
   "source": [
    "A little google search will tell us that 'Approves', 'Not Rated', 'Unrated', 'Passed' can be categorized as 'R'. 'M', 'GP', 'PG' essentially mean the same thing and this is also true with 'X' and 'NC-17'. So we are going to simplify these values to 'R', 'X', 'PG' respectively. "
   ]
  },
  {
   "cell_type": "code",
   "execution_count": 120,
   "metadata": {},
   "outputs": [
    {
     "data": {
      "text/plain": [
       "R        1809\n",
       "PG-13    1314\n",
       "PG        576\n",
       "G          91\n",
       "X          16\n",
       "Name: content_rating, dtype: int64"
      ]
     },
     "execution_count": 120,
     "metadata": {},
     "output_type": "execute_result"
    }
   ],
   "source": [
    "dataRaw.content_rating = dataRaw.content_rating.replace(['Approved','Not Rated', 'Passed', 'Unrated'], 'R')      \n",
    "dataRaw.content_rating = dataRaw.content_rating.replace(['M','GP'], 'PG')  \n",
    "dataRaw.content_rating = dataRaw.content_rating.replace(['NC-17'], 'X')  \n",
    "dataRaw.content_rating.value_counts()"
   ]
  },
  {
   "cell_type": "markdown",
   "metadata": {
    "collapsed": true
   },
   "source": [
    "Since this is categorical data, we can replace the missing values; hence the only option is to delete the rows. "
   ]
  },
  {
   "cell_type": "code",
   "execution_count": 121,
   "metadata": {
    "collapsed": true
   },
   "outputs": [],
   "source": [
    "dataRaw = dataRaw.dropna(subset=['content_rating'])"
   ]
  },
  {
   "cell_type": "markdown",
   "metadata": {},
   "source": [
    "We are approaching the end of the data cleaning process. Looking at the 'language' and 'country' variables, it is fairly apparent that these are categorical variables and 'language' seems to be having two missing values."
   ]
  },
  {
   "cell_type": "code",
   "execution_count": 122,
   "metadata": {},
   "outputs": [
    {
     "data": {
      "text/plain": [
       "English       3644\n",
       "French          34\n",
       "Spanish         24\n",
       "Mandarin        14\n",
       "German          11\n",
       "Japanese        10\n",
       "Cantonese        7\n",
       "Italian          7\n",
       "Korean           5\n",
       "Hindi            5\n",
       "Portuguese       5\n",
       "Norwegian        4\n",
       "Persian          3\n",
       "Danish           3\n",
       "Thai             3\n",
       "Dutch            3\n",
       "Indonesian       2\n",
       "Aboriginal       2\n",
       "Dari             2\n",
       "Hebrew           2\n",
       "Maya             1\n",
       "Vietnamese       1\n",
       "Russian          1\n",
       "Hungarian        1\n",
       "Romanian         1\n",
       "Arabic           1\n",
       "Czech            1\n",
       "Mongolian        1\n",
       "None             1\n",
       "Zulu             1\n",
       "Filipino         1\n",
       "Aramaic          1\n",
       "Bosnian          1\n",
       "Kazakh           1\n",
       "Name: language, dtype: int64"
      ]
     },
     "execution_count": 122,
     "metadata": {},
     "output_type": "execute_result"
    }
   ],
   "source": [
    "dataRaw.language.value_counts()"
   ]
  },
  {
   "cell_type": "markdown",
   "metadata": {},
   "source": [
    "Looking at the 'language' value counts, it is clear that most of the movies are in English and so it is nearly constant which indicates that it is likely to have minimal impact on the results. It can hence be removed. "
   ]
  },
  {
   "cell_type": "code",
   "execution_count": 123,
   "metadata": {
    "collapsed": true
   },
   "outputs": [],
   "source": [
    "dataRaw = dataRaw.drop(['language'], axis=1)"
   ]
  },
  {
   "cell_type": "code",
   "execution_count": 124,
   "metadata": {},
   "outputs": [
    {
     "data": {
      "text/plain": [
       "USA               3025\n",
       "UK                 316\n",
       "France             103\n",
       "Germany             79\n",
       "Canada              63\n",
       "Australia           40\n",
       "Spain               22\n",
       "Japan               15\n",
       "Hong Kong           13\n",
       "China               13\n",
       "New Zealand         11\n",
       "Italy               11\n",
       "Mexico              10\n",
       "Denmark              9\n",
       "South Korea          8\n",
       "Ireland              7\n",
       "India                5\n",
       "Brazil               5\n",
       "Norway               4\n",
       "Thailand             4\n",
       "Iran                 4\n",
       "Argentina            3\n",
       "Czech Republic       3\n",
       "Netherlands          3\n",
       "South Africa         3\n",
       "Russia               3\n",
       "Romania              2\n",
       "Israel               2\n",
       "Taiwan               2\n",
       "Hungary              2\n",
       "Colombia             1\n",
       "Indonesia            1\n",
       "Belgium              1\n",
       "Greece               1\n",
       "Aruba                1\n",
       "New Line             1\n",
       "Iceland              1\n",
       "Official site        1\n",
       "Finland              1\n",
       "West Germany         1\n",
       "Poland               1\n",
       "Afghanistan          1\n",
       "Peru                 1\n",
       "Georgia              1\n",
       "Philippines          1\n",
       "Chile                1\n",
       "Name: country, dtype: int64"
      ]
     },
     "execution_count": 124,
     "metadata": {},
     "output_type": "execute_result"
    }
   ],
   "source": [
    "dataRaw.country.value_counts()"
   ]
  },
  {
   "cell_type": "markdown",
   "metadata": {},
   "source": [
    "We can see from above that most of the movies in IMDB database seem to be made in 'USA,' but one can argue that there are a fair amount of films from 'UK' and 'France' as well. In this case, we can convert the variable categories into 'USA', 'UK', 'France' and 'Others'."
   ]
  },
  {
   "cell_type": "code",
   "execution_count": 125,
   "metadata": {},
   "outputs": [
    {
     "name": "stderr",
     "output_type": "stream",
     "text": [
      "D:\\Users\\hari0\\Anaconda3\\lib\\site-packages\\pandas\\core\\indexing.py:179: SettingWithCopyWarning: \n",
      "A value is trying to be set on a copy of a slice from a DataFrame\n",
      "\n",
      "See the caveats in the documentation: http://pandas.pydata.org/pandas-docs/stable/indexing.html#indexing-view-versus-copy\n",
      "  self._setitem_with_indexer(indexer, value)\n"
     ]
    },
    {
     "data": {
      "text/plain": [
       "USA       3025\n",
       "Others     362\n",
       "UK         316\n",
       "France     103\n",
       "Name: country, dtype: int64"
      ]
     },
     "execution_count": 125,
     "metadata": {},
     "output_type": "execute_result"
    }
   ],
   "source": [
    "dataRaw.country.loc[(dataRaw['country'] != 'USA') & (dataRaw['country'] != 'UK') & (dataRaw['country'] != 'France')] = 'Others'\n",
    "dataRaw.country.value_counts()"
   ]
  },
  {
   "cell_type": "markdown",
   "metadata": {},
   "source": [
    "Now we get to the most complicated part of the dataset, the 'genres' . "
   ]
  },
  {
   "cell_type": "code",
   "execution_count": 126,
   "metadata": {},
   "outputs": [
    {
     "data": {
      "text/plain": [
       "0    Action|Adventure|Fantasy|Sci-Fi\n",
       "1           Action|Adventure|Fantasy\n",
       "2          Action|Adventure|Thriller\n",
       "3                    Action|Thriller\n",
       "5            Action|Adventure|Sci-Fi\n",
       "Name: genres, dtype: object"
      ]
     },
     "execution_count": 126,
     "metadata": {},
     "output_type": "execute_result"
    }
   ],
   "source": [
    "dataRaw.genres.head()"
   ]
  },
  {
   "cell_type": "markdown",
   "metadata": {},
   "source": [
    "A movie can have multiple genres as we can see above. We need to split this up before performing any kind of visualization or machine learning on it. "
   ]
  },
  {
   "cell_type": "code",
   "execution_count": null,
   "metadata": {
    "scrolled": true
   },
   "outputs": [],
   "source": [
    "\n",
    "dataRaw = dataRaw.reset_index().drop(['index'], axis=1)\n",
    "temp = dataRaw[['movie_title','genres']]\n",
    "xyz = temp\n",
    "temp1 = dataRaw\n",
    "temp = pd.DataFrame(temp.genres.str.split('|').tolist(), index=temp.movie_title).stack()\n",
    "temp = temp.reset_index([0, 'movie_title'])\n",
    "temp.columns = ['movie_title', 'genres']\n",
    "unique_genres =  temp.genres.unique()\n",
    "\n",
    "count = 0\n",
    "\n",
    "for i in unique_genres:\n",
    "    xyz[i] = 0\n",
    "    for j in range(0, len(temp1)):\n",
    "        for k in xyz.genres.str.split('|').tolist()[j]:\n",
    "            if i == k:\n",
    "                xyz[i][j] = 1       \n",
    "    print(count)\n",
    "    count += 1\n",
    "\n",
    "finaldf = pd.merge(temp1, xyz, on=['movie_title','genres'])\n",
    "finaldf = finaldf.drop_duplicates(subset=['movie_title']).reset_index()\n",
    "finaldf.fillna(0).to_csv('FinalData1.csv')\n",
    "\n"
   ]
  },
  {
   "cell_type": "code",
   "execution_count": 136,
   "metadata": {
    "collapsed": true
   },
   "outputs": [],
   "source": [
    "finaldf =pd.read_csv(r\"C:\\Users\\hari0\\Dropbox\\Random Projects\\Movie Metadata\\FinalData1.csv\",sep=',', encoding='ISO-8859-1', index_col=0)\n",
    "dataRaw = finaldf.drop_duplicates(subset=['movie_title'], keep = False).reset_index()\n",
    "dataRaw = dataRaw.drop(['Unnamed: 0.1', 'level_0', 'index', 'genres'], 1)"
   ]
  },
  {
   "cell_type": "markdown",
   "metadata": {},
   "source": [
    "Our data is finally ready! So let us get started with the visualizations. \n",
    "\n",
    "<a id='section5'></a>\n",
    "<font size=\"4\">**3 Data Visualisation**</font>\n",
    "\n",
    "So our data is processed and ready to go but what does that mean? Before we can run this data through some machine learning algorithm, it is essential that we first understand how the data is correlated, how each variable can potentially impact the movie ratings. While the machine learning algorithm finds the intrinsic connections, it is vital for us to have an overview of these connections. This can be done by visualization of the data. Let us start with the most obvious point, how many movies have been made over the years. \n",
    "\n",
    "<a id='section6'></a>\n",
    "<font size=\"3\">**3.1 Movies Released per Year**</font>"
   ]
  },
  {
   "cell_type": "code",
   "execution_count": 128,
   "metadata": {},
   "outputs": [
    {
     "data": {
      "image/png": "[encoded data removed]",
      "text/plain": [
       "<Figure size 2160x720 with 1 Axes>"
      ]
     },
     "metadata": {
      "needs_background": "light"
     },
     "output_type": "display_data"
    }
   ],
   "source": [
    "plt.figure(figsize=(30, 10))\n",
    "sns.distplot(dataRaw.title_year, kde=False);"
   ]
  },
  {
   "cell_type": "markdown",
   "metadata": {},
   "source": [
    "As expected most movies were made after the '80s, this could be due to the commercial implications of films mainly because of the advancement of modern technology.\n",
    "\n",
    "<a id='section7'></a>\n",
    "<font size=\"3\">**3.2 Top 20 Movies based on IMDB Rating**</font>\n",
    "\n"
   ]
  },
  {
   "cell_type": "code",
   "execution_count": 129,
   "metadata": {},
   "outputs": [
    {
     "data": {
      "text/plain": [
       "<matplotlib.axes._subplots.AxesSubplot at 0x22c74015b38>"
      ]
     },
     "execution_count": 129,
     "metadata": {},
     "output_type": "execute_result"
    },
    {
     "data": {
      "image/png": "[encoded data removed]",
      "text/plain": [
       "<Figure size 720x720 with 1 Axes>"
      ]
     },
     "metadata": {
      "needs_background": "light"
     },
     "output_type": "display_data"
    }
   ],
   "source": [
    "temp = dataRaw.sort_values('imdb_score', ascending=False).head(20)[['movie_title', 'imdb_score']]\n",
    "plt.figure(figsize=(10, 10))\n",
    "sns.set(style='whitegrid')\n",
    "sns.barplot(y='movie_title', x='imdb_score', data=temp)"
   ]
  },
  {
   "cell_type": "markdown",
   "metadata": {},
   "source": [
    "<a id='section8'></a>\n",
    "<font size=\"3\">**3.3 Top 20 Directors with highest average IMDB Rating**</font>"
   ]
  },
  {
   "cell_type": "code",
   "execution_count": 130,
   "metadata": {},
   "outputs": [
    {
     "data": {
      "text/plain": [
       "<matplotlib.axes._subplots.AxesSubplot at 0x22c6779e9e8>"
      ]
     },
     "execution_count": 130,
     "metadata": {},
     "output_type": "execute_result"
    },
    {
     "data": {
      "image/png": "[encoded data removed]",
      "text/plain": [
       "<Figure size 720x720 with 1 Axes>"
      ]
     },
     "metadata": {},
     "output_type": "display_data"
    }
   ],
   "source": [
    "temp = dataRaw.groupby('director_name').mean()[['imdb_score']].sort_values('imdb_score', ascending=False).head(20).reset_index()\n",
    "plt.figure(figsize=(10, 10))\n",
    "sns.set(style='whitegrid')\n",
    "sns.barplot(y='director_name', x='imdb_score', data=temp)"
   ]
  },
  {
   "cell_type": "markdown",
   "metadata": {},
   "source": [
    "<a id='section9'></a>\n",
    "<font size=\"3\">**3.4 Movie ratings per genre**</font>\n",
    "\n"
   ]
  },
  {
   "cell_type": "code",
   "execution_count": 131,
   "metadata": {
    "collapsed": true
   },
   "outputs": [],
   "source": [
    "temp_act = dataRaw.loc[dataRaw.Action == 1][['imdb_score']]\n",
    "temp_adv = dataRaw.loc[dataRaw.Adventure == 1][['imdb_score']]\n",
    "temp_fan = dataRaw.loc[dataRaw.Fantasy == 1][['imdb_score']]\n",
    "temp_sci = dataRaw.loc[dataRaw['Sci-Fi'] == 1][['imdb_score']]\n",
    "temp_thr = dataRaw.loc[dataRaw.Thriller == 1][['imdb_score']]\n",
    "temp_rom = dataRaw.loc[dataRaw.Romance == 1][['imdb_score']]\n",
    "temp_com = dataRaw.loc[dataRaw.Comedy == 1][['imdb_score']]\n",
    "temp_ani = dataRaw.loc[dataRaw.Animation == 1][['imdb_score']]\n",
    "temp_fam = dataRaw.loc[dataRaw.Family == 1][['imdb_score']]\n",
    "temp_hor = dataRaw.loc[dataRaw.Horror == 1][['imdb_score']]\n",
    "temp_dra = dataRaw.loc[dataRaw.Drama == 1][['imdb_score']]\n",
    "temp_crime = dataRaw.loc[dataRaw.Crime == 1][['imdb_score']]"
   ]
  },
  {
   "cell_type": "code",
   "execution_count": 132,
   "metadata": {},
   "outputs": [
    {
     "data": {
      "text/plain": [
       "Text(0.5,1,'Crime Movies')"
      ]
     },
     "execution_count": 132,
     "metadata": {},
     "output_type": "execute_result"
    },
    {
     "data": {
      "image/png": "[encoded data removed]",
      "text/plain": [
       "<Figure size 1440x1440 with 12 Axes>"
      ]
     },
     "metadata": {},
     "output_type": "display_data"
    }
   ],
   "source": [
    "sns.set(style=\"white\", palette=\"muted\", color_codes=True)\n",
    "f, axes = plt.subplots(3, 4, figsize=(20, 20), sharex=True)\n",
    "sns.despine(left=True)\n",
    "\n",
    "sns.distplot(temp_act.imdb_score, kde=False, color=\"blue\", ax=axes[0, 0]).set_title('Action Movies')\n",
    "sns.distplot(temp_adv.imdb_score, kde=False, color=\"red\", ax=axes[0, 1]).set_title('Adventure Movies')\n",
    "sns.distplot(temp_fan.imdb_score, kde=False, color=\"green\", ax=axes[0, 2]).set_title('Fantasy Movies')\n",
    "sns.distplot(temp_sci.imdb_score, kde=False, color=\"orange\", ax=axes[0, 3]).set_title('Sci-Fi Movies')\n",
    "sns.distplot(temp_thr.imdb_score, kde=False, color=\"blue\", ax=axes[1, 0]).set_title('Thriller Movies')\n",
    "sns.distplot(temp_rom.imdb_score, kde=False, color=\"red\", ax=axes[1, 1]).set_title('Romance Movies')\n",
    "sns.distplot(temp_com.imdb_score, kde=False, color=\"green\", ax=axes[1, 2]).set_title('Comedy Movies')\n",
    "sns.distplot(temp_fam.imdb_score, kde=False, color=\"orange\", ax=axes[1, 3]).set_title('Family Movies')\n",
    "sns.distplot(temp_hor.imdb_score, kde=False, color=\"blue\", ax=axes[2, 0]).set_title('Horror Movies')\n",
    "sns.distplot(temp_dra.imdb_score, kde=False, color=\"red\", ax=axes[2, 1]).set_title('Drama Movies')\n",
    "sns.distplot(temp_ani.imdb_score, kde=False, color=\"green\", ax=axes[2, 2]).set_title('Animation Movies')\n",
    "sns.distplot(temp_crime.imdb_score, kde=False, color=\"orange\", ax=axes[2, 3]).set_title('Crime Movies')"
   ]
  },
  {
   "cell_type": "markdown",
   "metadata": {},
   "source": [
    "Looking at some of the more commonly made movie genres, we can see that the IMDB ratings are usually around 6-8 for most genres except for horror which is 5-7 and thriller being slightly higher than that. \n",
    "\n",
    "We can visualize this data in many more ways, but we got the gist of how the ratings work. For most movies, the ratings average out between 5-8. \n",
    "\n",
    "Now that the visualization is over, let us get into the pre-processing stage to get the data ready for machine learning. "
   ]
  },
  {
   "cell_type": "markdown",
   "metadata": {},
   "source": [
    "<a id='section10'></a>\n",
    "<font size=\"4\">**4 Data Pre-Processing**</font>\n",
    "\n",
    "<a id='section11'></a>\n",
    "<font size=\"3\">**4.1 Drop Columns**</font>\n",
    "\n",
    "This step is essential as certain columns are not useful for predictions. Variables like names, movie IMDB link, plot keywords vary with most movies which makes these variables impossible to be valuable predictors. "
   ]
  },
  {
   "cell_type": "code",
   "execution_count": 133,
   "metadata": {
    "collapsed": true
   },
   "outputs": [],
   "source": [
    "dataRaw = dataRaw.drop(['director_name', 'actor_2_name', 'actor_1_name','movie_title', 'actor_3_name', 'plot_keywords', 'movie_imdb_link'], axis=1)"
   ]
  },
  {
   "cell_type": "markdown",
   "metadata": {},
   "source": [
    "<a id='section12'></a>\n",
    "<font size=\"3\">**4.2 Bin IMDB Ratings**</font>\n",
    "\n",
    "The target of this project is to predict if a movie is going to be good or bad for this; we do not need the absolute score. We just need bins of the ratings so the ratings will be split into less than 2, 2 to 4, 4 to 6, 6 to 8 and more than 8. "
   ]
  },
  {
   "cell_type": "code",
   "execution_count": 106,
   "metadata": {
    "collapsed": true
   },
   "outputs": [],
   "source": [
    "custom_bucket_array = np.linspace(0,10,6)\n",
    "dataRaw.imdb_score = pd.cut(dataRaw['imdb_score'], custom_bucket_array)\n",
    "dataRaw.imdb_score = dataRaw.imdb_score.astype(str)\n",
    "dataRaw = dataRaw.replace({'imdb_score': { '(0.0, 2.0]': 0,'(2.0, 4.0]': 1,'(4.0, 6.0]': 2,'(6.0, 8.0]': 3,'(8.0, 10.0]': 4}})"
   ]
  },
  {
   "cell_type": "markdown",
   "metadata": {},
   "source": [
    "<a id='section13'></a>\n",
    "<font size=\"3\">**4.4 Convert Object data to Numberical**</font>\n",
    "\n",
    "Most machine learning algorithms need the data to be numerical. In our data 'language', 'country' and 'content_rating' are not in a numerical format so they need to be converted to that format before we can proceed.\n"
   ]
  },
  {
   "cell_type": "code",
   "execution_count": 6,
   "metadata": {
    "collapsed": true
   },
   "outputs": [],
   "source": [
    "dataRaw = dataRaw.replace({'country': {'USA': 1,'UK': 2,'France': 3,'Others': 0}})\n",
    "dataRaw = dataRaw.replace({'content_rating': {'R': 1,'PG-13': 2,'PG': 3,'G': 4,'X': 0 }})"
   ]
  },
  {
   "cell_type": "markdown",
   "metadata": {},
   "source": [
    "<a id='section14'></a>\n",
    "<font size=\"3\">**4.3 Training and Testing Data Split**</font>\n",
    "\n",
    "We now seperate the train, validation and test data."
   ]
  },
  {
   "cell_type": "code",
   "execution_count": 59,
   "metadata": {
    "collapsed": true
   },
   "outputs": [],
   "source": [
    "Y=dataRaw.imdb_score\n",
    "X=dataRaw.drop(['imdb_score'], axis=1)\n",
    "\n",
    "x_train, x_test, y_train, y_test = train_test_split(X, Y, test_size=0.25)"
   ]
  },
  {
   "cell_type": "code",
   "execution_count": null,
   "metadata": {
    "collapsed": true
   },
   "outputs": [],
   "source": []
  },
  {
   "cell_type": "markdown",
   "metadata": {},
   "source": [
    "<a id='section15'></a>\n",
    "<font size=\"4\">**5 Implementing Machine Learning Algorithms**</font>\n",
    "\n",
    "The assignment required this project to have three machine learning algorithms and to compare their performance. In this project, we are going to implement XGBoost, Random Forest and Neural Networks using keras and tensorflow.\n",
    "\n",
    "<a id='section16'></a>\n",
    "<font size=\"3\">**5.1 XGBoost**</font>\n",
    "\n",
    "XGBoost stands for Extreme Gradient Boosting, it is a type of decision tree. It has gained popularity in recent times for its powerful performance on tabular data. Since we have such data, this algorithm is worth a shot.  "
   ]
  },
  {
   "cell_type": "code",
   "execution_count": 60,
   "metadata": {},
   "outputs": [
    {
     "data": {
      "text/plain": [
       "XGBClassifier(alpha=10, base_score=0.5, booster='gbtree', colsample_bylevel=1,\n",
       "       colsample_bytree=0.3, eval_metric='auc', gamma=0,\n",
       "       learning_rate=0.05, max_delta_step=0, max_depth=5,\n",
       "       min_child_weight=1, missing=None, n_estimators=100, n_jobs=1,\n",
       "       nthread=None, objective='multi:softprob', random_state=0,\n",
       "       reg_alpha=0, reg_lambda=1, scale_pos_weight=1, seed=None,\n",
       "       silent=True, subsample=1)"
      ]
     },
     "execution_count": 60,
     "metadata": {},
     "output_type": "execute_result"
    }
   ],
   "source": [
    "#-------------- XGboost (untuned) ----------------#\n",
    "import xgboost as xgb\n",
    "xg_reg = xgb.XGBClassifier(objective ='multi:softmax', colsample_bytree = 0.3, learning_rate = 0.05,\n",
    "                max_depth = 5, alpha = 10, eval_metric=\"auc\")\n",
    "#objective ='multi:softmax'\n",
    "#objective ='binary:logistic'\n",
    "xg_reg.fit(x_train,y_train)"
   ]
  },
  {
   "cell_type": "code",
   "execution_count": 61,
   "metadata": {},
   "outputs": [
    {
     "data": {
      "image/png": "[encoded data removed]",
      "text/plain": [
       "<Figure size 360x360 with 1 Axes>"
      ]
     },
     "metadata": {
      "needs_background": "light"
     },
     "output_type": "display_data"
    }
   ],
   "source": [
    "xgb.plot_importance(xg_reg,max_num_features = 20)\n",
    "plt.rcParams['figure.figsize'] = [5, 5]\n",
    "plt.show()"
   ]
  },
  {
   "cell_type": "code",
   "execution_count": 62,
   "metadata": {},
   "outputs": [
    {
     "name": "stdout",
     "output_type": "stream",
     "text": [
      "Train Accuracy: 87.08065667380443 Test Accuracy: 79.01498929336188\n"
     ]
    }
   ],
   "source": [
    "from sklearn.metrics import accuracy_score\n",
    "from math import sqrt\n",
    "\n",
    "\n",
    "pred_train = xg_reg.predict(x_train)\n",
    "rms_train = accuracy_score(y_train, pred_train)\n",
    "\n",
    "pred_test = xg_reg.predict(x_test)\n",
    "rms_test = accuracy_score(y_test, pred_test)\n",
    "\n",
    "#del Xtrain, Ytrain\n",
    "#gc.collect()\n",
    "print('Train Accuracy: {0} Test Accuracy: {1}'.format(rms_train*100, rms_test*100))"
   ]
  },
  {
   "cell_type": "markdown",
   "metadata": {
    "collapsed": true
   },
   "source": [
    "XGBoost seems to offer an accuracy of 79.01% on test data. Lets now try using Random Forest. \n",
    "\n",
    "<a id='section17'></a>\n",
    "<font size=\"3\">**5.2 Random Forest**</font>\n",
    "\n",
    "Random forest algorithm creates multiple decision trees on randomly selected sample data. It gets predictions for each tree and selects the best solution. "
   ]
  },
  {
   "cell_type": "code",
   "execution_count": 63,
   "metadata": {
    "collapsed": true
   },
   "outputs": [],
   "source": [
    "from sklearn.ensemble import RandomForestClassifier\n",
    "\n",
    "model = RandomForestClassifier(n_estimators=10)\n",
    "model = model.fit(x_train, y_train)\n",
    "feature_imp = pd.Series(model.feature_importances_,index=x_train.columns.values).sort_values(ascending=False)"
   ]
  },
  {
   "cell_type": "code",
   "execution_count": 64,
   "metadata": {},
   "outputs": [
    {
     "name": "stderr",
     "output_type": "stream",
     "text": [
      "No handles with labels found to put in legend.\n"
     ]
    },
    {
     "data": {
      "image/png": "[encoded data removed]",
      "text/plain": [
       "<Figure size 720x720 with 1 Axes>"
      ]
     },
     "metadata": {
      "needs_background": "light"
     },
     "output_type": "display_data"
    }
   ],
   "source": [
    "\n",
    "# Creating a bar plot\n",
    "plt.figure(figsize=(10, 10))\n",
    "sns.barplot(x=feature_imp, y=feature_imp.index)\n",
    "# Add labels to your graph\n",
    "plt.xlabel('Feature Importance Score')\n",
    "plt.ylabel('Features')\n",
    "plt.title(\"Visualizing Important Features\")\n",
    "plt.legend()\n",
    "plt.show()"
   ]
  },
  {
   "cell_type": "code",
   "execution_count": 78,
   "metadata": {},
   "outputs": [
    {
     "name": "stdout",
     "output_type": "stream",
     "text": [
      "Train Accuracy: 98.60813704496788 Test Accuracy: 76.12419700214133\n"
     ]
    }
   ],
   "source": [
    "# predictions\n",
    "pred_train = model.predict(x_train)\n",
    "rms_train = accuracy_score(y_train, pred_train)\n",
    "\n",
    "pred_test = model.predict(x_test)\n",
    "rms_test = accuracy_score(y_test, pred_test)\n",
    "\n",
    "print('Train Accuracy: {0} Test Accuracy: {1}'.format(rms_train*100, rms_test*100))"
   ]
  },
  {
   "cell_type": "markdown",
   "metadata": {
    "collapsed": true
   },
   "source": [
    "With training accuracy of over 98%, which indicates that there could be some overfitting, but the accuracy on testing data is still only 76.12%.\n",
    "\n",
    "\n",
    "<a id='section18'></a>\n",
    "<font size=\"3\">**5.3 Neural Networks**</font>\n",
    "\n",
    "The third machine learning algorithm is going to be a neural network using Keras and Tensorflow. Neural networks are robust algorithms that can be used for both classification and regression problem with relative ease and performance to compliment that. We are going to see how it compares to XGBoost.\n",
    "\n",
    "Before we can apply neural networks, the data needs to be modified to fit this algorithm. First, we need to convert all 'X' data to [0,1] and the 'Y' data to categorical data with five columns representing the number of classes instead of one column."
   ]
  },
  {
   "cell_type": "code",
   "execution_count": 98,
   "metadata": {
    "collapsed": true
   },
   "outputs": [],
   "source": [
    "from sklearn.preprocessing import StandardScaler\n",
    "sc = StandardScaler()\n",
    "X = sc.fit_transform(X)\n",
    "Y = to_categorical(Y, num_classes=5)\n",
    "\n",
    "x_train, x_test, y_train, y_test = train_test_split(X, Y, test_size=0.25)"
   ]
  },
  {
   "cell_type": "code",
   "execution_count": 103,
   "metadata": {},
   "outputs": [
    {
     "name": "stderr",
     "output_type": "stream",
     "text": [
      "D:\\Users\\hari0\\Anaconda3\\lib\\site-packages\\ipykernel_launcher.py:16: UserWarning: The `nb_epoch` argument in `fit` has been renamed `epochs`.\n",
      "  app.launch_new_instance()\n"
     ]
    },
    {
     "name": "stdout",
     "output_type": "stream",
     "text": [
      "Epoch 1/100\n",
      "2802/2802 [==============================] - 1s 402us/step - loss: 1.1448 - acc: 0.6146\n",
      "Epoch 2/100\n",
      "2802/2802 [==============================] - 0s 95us/step - loss: 0.7981 - acc: 0.6602\n",
      "Epoch 3/100\n",
      "2802/2802 [==============================] - 0s 87us/step - loss: 0.6825 - acc: 0.7052\n",
      "Epoch 4/100\n",
      "2802/2802 [==============================] - 0s 85us/step - loss: 0.6257 - acc: 0.7352\n",
      "Epoch 5/100\n",
      "2802/2802 [==============================] - 0s 88us/step - loss: 0.5913 - acc: 0.7527\n",
      "Epoch 6/100\n",
      "2802/2802 [==============================] - 0s 90us/step - loss: 0.5719 - acc: 0.7559\n",
      "Epoch 7/100\n",
      "2802/2802 [==============================] - 0s 88us/step - loss: 0.5545 - acc: 0.7616\n",
      "Epoch 8/100\n",
      "2802/2802 [==============================] - 0s 82us/step - loss: 0.5405 - acc: 0.7673\n",
      "Epoch 9/100\n",
      "2802/2802 [==============================] - 0s 92us/step - loss: 0.5321 - acc: 0.7730\n",
      "Epoch 10/100\n",
      "2802/2802 [==============================] - 0s 119us/step - loss: 0.5241 - acc: 0.7748\n",
      "Epoch 11/100\n",
      "2802/2802 [==============================] - 0s 95us/step - loss: 0.5167 - acc: 0.7802\n",
      "Epoch 12/100\n",
      "2802/2802 [==============================] - 0s 91us/step - loss: 0.5114 - acc: 0.7837\n",
      "Epoch 13/100\n",
      "2802/2802 [==============================] - 0s 103us/step - loss: 0.5052 - acc: 0.7862\n",
      "Epoch 14/100\n",
      "2802/2802 [==============================] - 0s 105us/step - loss: 0.5000 - acc: 0.7898\n",
      "Epoch 15/100\n",
      "2802/2802 [==============================] - 0s 86us/step - loss: 0.4971 - acc: 0.7884\n",
      "Epoch 16/100\n",
      "2802/2802 [==============================] - 0s 131us/step - loss: 0.4911 - acc: 0.7923\n",
      "Epoch 17/100\n",
      "2802/2802 [==============================] - 0s 118us/step - loss: 0.4868 - acc: 0.7980 0s - loss: 0.4795 - acc: 0.\n",
      "Epoch 18/100\n",
      "2802/2802 [==============================] - 0s 91us/step - loss: 0.4824 - acc: 0.7955\n",
      "Epoch 19/100\n",
      "2802/2802 [==============================] - 0s 108us/step - loss: 0.4801 - acc: 0.7966\n",
      "Epoch 20/100\n",
      "2802/2802 [==============================] - 0s 91us/step - loss: 0.4756 - acc: 0.8059\n",
      "Epoch 21/100\n",
      "2802/2802 [==============================] - 0s 90us/step - loss: 0.4740 - acc: 0.7962\n",
      "Epoch 22/100\n",
      "2802/2802 [==============================] - 0s 85us/step - loss: 0.4702 - acc: 0.7998\n",
      "Epoch 23/100\n",
      "2802/2802 [==============================] - 0s 95us/step - loss: 0.4673 - acc: 0.8034\n",
      "Epoch 24/100\n",
      "2802/2802 [==============================] - 0s 102us/step - loss: 0.4641 - acc: 0.8066\n",
      "Epoch 25/100\n",
      "2802/2802 [==============================] - 0s 100us/step - loss: 0.4610 - acc: 0.8041\n",
      "Epoch 26/100\n",
      "2802/2802 [==============================] - 0s 103us/step - loss: 0.4591 - acc: 0.8098\n",
      "Epoch 27/100\n",
      "2802/2802 [==============================] - 0s 96us/step - loss: 0.4572 - acc: 0.8112\n",
      "Epoch 28/100\n",
      "2802/2802 [==============================] - 0s 101us/step - loss: 0.4544 - acc: 0.8091\n",
      "Epoch 29/100\n",
      "2802/2802 [==============================] - 0s 101us/step - loss: 0.4529 - acc: 0.8091\n",
      "Epoch 30/100\n",
      "2802/2802 [==============================] - 0s 104us/step - loss: 0.4497 - acc: 0.8144\n",
      "Epoch 31/100\n",
      "2802/2802 [==============================] - 0s 139us/step - loss: 0.4482 - acc: 0.8116\n",
      "Epoch 32/100\n",
      "2802/2802 [==============================] - 0s 124us/step - loss: 0.4476 - acc: 0.8141\n",
      "Epoch 33/100\n",
      "2802/2802 [==============================] - 0s 88us/step - loss: 0.4447 - acc: 0.8112\n",
      "Epoch 34/100\n",
      "2802/2802 [==============================] - 0s 90us/step - loss: 0.4436 - acc: 0.8141\n",
      "Epoch 35/100\n",
      "2802/2802 [==============================] - 0s 93us/step - loss: 0.4418 - acc: 0.8151\n",
      "Epoch 36/100\n",
      "2802/2802 [==============================] - 0s 89us/step - loss: 0.4432 - acc: 0.8162\n",
      "Epoch 37/100\n",
      "2802/2802 [==============================] - 0s 92us/step - loss: 0.4396 - acc: 0.8216\n",
      "Epoch 38/100\n",
      "2802/2802 [==============================] - 0s 105us/step - loss: 0.4392 - acc: 0.8155\n",
      "Epoch 39/100\n",
      "2802/2802 [==============================] - 0s 87us/step - loss: 0.4351 - acc: 0.8219\n",
      "Epoch 40/100\n",
      "2802/2802 [==============================] - 0s 94us/step - loss: 0.4325 - acc: 0.8212\n",
      "Epoch 41/100\n",
      "2802/2802 [==============================] - 0s 107us/step - loss: 0.4321 - acc: 0.8230\n",
      "Epoch 42/100\n",
      "2802/2802 [==============================] - 0s 90us/step - loss: 0.4309 - acc: 0.8176\n",
      "Epoch 43/100\n",
      "2802/2802 [==============================] - 0s 95us/step - loss: 0.4308 - acc: 0.8183\n",
      "Epoch 44/100\n",
      "2802/2802 [==============================] - 0s 90us/step - loss: 0.4275 - acc: 0.8187\n",
      "Epoch 45/100\n",
      "2802/2802 [==============================] - 0s 107us/step - loss: 0.4269 - acc: 0.8255\n",
      "Epoch 46/100\n",
      "2802/2802 [==============================] - 0s 87us/step - loss: 0.4258 - acc: 0.8262\n",
      "Epoch 47/100\n",
      "2802/2802 [==============================] - 0s 91us/step - loss: 0.4248 - acc: 0.8180\n",
      "Epoch 48/100\n",
      "2802/2802 [==============================] - 0s 91us/step - loss: 0.4250 - acc: 0.8255\n",
      "Epoch 49/100\n",
      "2802/2802 [==============================] - 0s 98us/step - loss: 0.4231 - acc: 0.8276\n",
      "Epoch 50/100\n",
      "2802/2802 [==============================] - 0s 91us/step - loss: 0.4211 - acc: 0.8251\n",
      "Epoch 51/100\n",
      "2802/2802 [==============================] - 0s 100us/step - loss: 0.4188 - acc: 0.8298\n",
      "Epoch 52/100\n",
      "2802/2802 [==============================] - 0s 116us/step - loss: 0.4201 - acc: 0.8287\n",
      "Epoch 53/100\n",
      "2802/2802 [==============================] - 0s 99us/step - loss: 0.4163 - acc: 0.8330\n",
      "Epoch 54/100\n",
      "2802/2802 [==============================] - 0s 88us/step - loss: 0.4181 - acc: 0.8280\n",
      "Epoch 55/100\n",
      "2802/2802 [==============================] - 0s 96us/step - loss: 0.4166 - acc: 0.8340\n",
      "Epoch 56/100\n",
      "2802/2802 [==============================] - 0s 109us/step - loss: 0.4129 - acc: 0.8291\n",
      "Epoch 57/100\n",
      "2802/2802 [==============================] - 0s 107us/step - loss: 0.4135 - acc: 0.8308\n",
      "Epoch 58/100\n",
      "2802/2802 [==============================] - 0s 97us/step - loss: 0.4129 - acc: 0.8319\n",
      "Epoch 59/100\n",
      "2802/2802 [==============================] - 0s 90us/step - loss: 0.4112 - acc: 0.8319\n",
      "Epoch 60/100\n",
      "2802/2802 [==============================] - 0s 102us/step - loss: 0.4100 - acc: 0.8276\n",
      "Epoch 61/100\n",
      "2802/2802 [==============================] - 0s 112us/step - loss: 0.4082 - acc: 0.8344\n",
      "Epoch 62/100\n",
      "2802/2802 [==============================] - 0s 101us/step - loss: 0.4095 - acc: 0.8298\n",
      "Epoch 63/100\n",
      "2802/2802 [==============================] - 0s 108us/step - loss: 0.4056 - acc: 0.8344\n",
      "Epoch 64/100\n",
      "2802/2802 [==============================] - 0s 96us/step - loss: 0.4057 - acc: 0.8326\n",
      "Epoch 65/100\n",
      "2802/2802 [==============================] - 0s 91us/step - loss: 0.4056 - acc: 0.8369\n",
      "Epoch 66/100\n",
      "2802/2802 [==============================] - 0s 88us/step - loss: 0.4042 - acc: 0.8340\n",
      "Epoch 67/100\n",
      "2802/2802 [==============================] - 0s 106us/step - loss: 0.4042 - acc: 0.8273\n",
      "Epoch 68/100\n",
      "2802/2802 [==============================] - 0s 98us/step - loss: 0.4025 - acc: 0.8380\n",
      "Epoch 69/100\n",
      "2802/2802 [==============================] - 0s 95us/step - loss: 0.4025 - acc: 0.8330\n",
      "Epoch 70/100\n",
      "2802/2802 [==============================] - 0s 105us/step - loss: 0.4026 - acc: 0.8319\n",
      "Epoch 71/100\n",
      "2802/2802 [==============================] - 0s 100us/step - loss: 0.4005 - acc: 0.8348\n",
      "Epoch 72/100\n",
      "2802/2802 [==============================] - 0s 92us/step - loss: 0.4006 - acc: 0.8365\n",
      "Epoch 73/100\n",
      "2802/2802 [==============================] - 0s 104us/step - loss: 0.4001 - acc: 0.8365\n",
      "Epoch 74/100\n",
      "2802/2802 [==============================] - 0s 97us/step - loss: 0.3991 - acc: 0.8380\n",
      "Epoch 75/100\n",
      "2802/2802 [==============================] - 0s 102us/step - loss: 0.3985 - acc: 0.8362\n",
      "Epoch 76/100\n",
      "2802/2802 [==============================] - 0s 91us/step - loss: 0.3978 - acc: 0.8365\n",
      "Epoch 77/100\n",
      "2802/2802 [==============================] - 0s 87us/step - loss: 0.3981 - acc: 0.8362\n",
      "Epoch 78/100\n",
      "2802/2802 [==============================] - 0s 95us/step - loss: 0.3966 - acc: 0.8348\n",
      "Epoch 79/100\n",
      "2802/2802 [==============================] - 0s 92us/step - loss: 0.3938 - acc: 0.8373\n",
      "Epoch 80/100\n",
      "2802/2802 [==============================] - 0s 95us/step - loss: 0.3964 - acc: 0.8373\n",
      "Epoch 81/100\n",
      "2802/2802 [==============================] - 0s 101us/step - loss: 0.3962 - acc: 0.8358\n",
      "Epoch 82/100\n",
      "2802/2802 [==============================] - 0s 113us/step - loss: 0.3927 - acc: 0.8398\n",
      "Epoch 83/100\n",
      "2802/2802 [==============================] - 0s 106us/step - loss: 0.3934 - acc: 0.8369\n",
      "Epoch 84/100\n",
      "2802/2802 [==============================] - 0s 101us/step - loss: 0.3932 - acc: 0.8415\n",
      "Epoch 85/100\n",
      "2802/2802 [==============================] - 0s 96us/step - loss: 0.3923 - acc: 0.8387\n",
      "Epoch 86/100\n",
      "2802/2802 [==============================] - 0s 97us/step - loss: 0.3920 - acc: 0.8398\n",
      "Epoch 87/100\n",
      "2802/2802 [==============================] - 0s 97us/step - loss: 0.3906 - acc: 0.8401\n",
      "Epoch 88/100\n",
      "2802/2802 [==============================] - 0s 106us/step - loss: 0.3910 - acc: 0.8401\n",
      "Epoch 89/100\n",
      "2802/2802 [==============================] - 0s 133us/step - loss: 0.3911 - acc: 0.8394\n",
      "Epoch 90/100\n",
      "2802/2802 [==============================] - 0s 95us/step - loss: 0.3892 - acc: 0.8412\n",
      "Epoch 91/100\n",
      "2802/2802 [==============================] - 0s 95us/step - loss: 0.3888 - acc: 0.8408\n",
      "Epoch 92/100\n",
      "2802/2802 [==============================] - 0s 88us/step - loss: 0.3891 - acc: 0.8401\n",
      "Epoch 93/100\n",
      "2802/2802 [==============================] - 0s 87us/step - loss: 0.3881 - acc: 0.8405\n",
      "Epoch 94/100\n",
      "2802/2802 [==============================] - 0s 97us/step - loss: 0.3872 - acc: 0.8415\n",
      "Epoch 95/100\n",
      "2802/2802 [==============================] - 0s 91us/step - loss: 0.3862 - acc: 0.8423\n",
      "Epoch 96/100\n",
      "2802/2802 [==============================] - 0s 111us/step - loss: 0.3852 - acc: 0.8415\n",
      "Epoch 97/100\n",
      "2802/2802 [==============================] - 0s 107us/step - loss: 0.3858 - acc: 0.8415\n",
      "Epoch 98/100\n",
      "2802/2802 [==============================] - 0s 98us/step - loss: 0.3843 - acc: 0.8380: 0s - loss: 0.3805 - acc: 0.8\n",
      "Epoch 99/100\n",
      "2802/2802 [==============================] - 0s 104us/step - loss: 0.3861 - acc: 0.8433\n",
      "Epoch 100/100\n",
      "2802/2802 [==============================] - 0s 99us/step - loss: 0.3829 - acc: 0.8394\n"
     ]
    },
    {
     "data": {
      "text/plain": [
       "<keras.callbacks.History at 0x22c75949710>"
      ]
     },
     "execution_count": 103,
     "metadata": {},
     "output_type": "execute_result"
    }
   ],
   "source": [
    "from keras import optimizers\n",
    "from keras.models import Sequential\n",
    "from keras.layers import Dense, Embedding, LSTM, Activation\n",
    "from keras.optimizers import Adam, RMSprop, SGD\n",
    "from keras.utils.np_utils import to_categorical \n",
    "from keras.utils import np_utils\n",
    "import tensorflow as tf\n",
    "\n",
    "nn_model = Sequential()\n",
    "nn_model.add(Dense(10, input_dim=39 , activation = 'relu'))\n",
    "nn_model.add(Dense(10, input_dim=10 , activation = 'relu'))\n",
    "nn_model.add(Dense(10, input_dim=10 , activation = 'relu'))\n",
    "nn_model.add(Dense(5, activation ='softmax'))\n",
    "adam = optimizers.Adam(lr=0.01, beta_1=0.9, beta_2=0.999, epsilon=1e-08, decay=0.05)\n",
    "nn_model.compile(loss='categorical_crossentropy', optimizer='Adam', metrics=['accuracy'])\n",
    "\n",
    "nn_model.fit(x_train, y_train, nb_epoch=100, batch_size=10)\n"
   ]
  },
  {
   "cell_type": "code",
   "execution_count": 104,
   "metadata": {},
   "outputs": [
    {
     "name": "stdout",
     "output_type": "stream",
     "text": [
      "2802/2802 [==============================] - 0s 86us/step\n",
      "934/934 [==============================] - 0s 18us/step\n",
      "Train Accuracy: 85.08208422555317 Test Accuracy: 75.2676659528908\n"
     ]
    }
   ],
   "source": [
    "trainScore, trainAcc = nn_model.evaluate(x_train, y_train)\n",
    "testScore, testAcc = nn_model.evaluate(x_test, y_test)\n",
    "\n",
    "print('Train Accuracy: {0} Test Accuracy: {1}'.format(trainAcc*100, testAcc*100))"
   ]
  },
  {
   "cell_type": "markdown",
   "metadata": {},
   "source": [
    "The neural network using Adam optimizer  seems to give 75.26% accuracy. This is slightly lower than the random forest. \n",
    "\n",
    "<a id='section19'></a>\n",
    "<font size=\"4\">**6 Conclusion**</font>\n",
    "\n",
    "Table for the accuracy of different models is shown below.\n",
    "\n",
    "\n",
    "| Dataset |  RGBoost   | Random Forest |  Neural Networks   |\n",
    "|---------|------------|---------------|--------------------|\n",
    "|   Training  | 87.08| 98.60 |  85.08   |\n",
    "|  Testing   |  79.01   |  76.12   |  75.26     |\n",
    "\n",
    "\n",
    "XGBoost has the highest accuracy on testing data despite having only 87% accuracy on training data. Even neural networks have a relatively high accuracy for testing data with only 85% accuracy on training data. Whereas Random Forest is showing a very high accuracy of 98% on training data but just showing slightly better performance on testing data as compared to neural networks. This is a typical issue with random forest because it can overfit on data easily.. "
   ]
  },
  {
   "cell_type": "code",
   "execution_count": null,
   "metadata": {
    "collapsed": true
   },
   "outputs": [],
   "source": []
  }
 ],
 "metadata": {
  "kernelspec": {
   "display_name": "Python 3",
   "language": "python",
   "name": "python3"
  },
  "language_info": {
   "codemirror_mode": {
    "name": "ipython",
    "version": 3
   },
   "file_extension": ".py",
   "mimetype": "text/x-python",
   "name": "python",
   "nbconvert_exporter": "python",
   "pygments_lexer": "ipython3",
   "version": "3.6.3"
  },
  "toc": {
   "base_numbering": 1,
   "nav_menu": {
    "height": "245px",
    "width": "242px"
   },
   "number_sections": false,
   "sideBar": true,
   "skip_h1_title": true,
   "title_cell": "Table of Contents",
   "title_sidebar": "Contents",
   "toc_cell": false,
   "toc_position": {},
   "toc_section_display": true,
   "toc_window_display": true
  }
 },
 "nbformat": 4,
 "nbformat_minor": 2
}
